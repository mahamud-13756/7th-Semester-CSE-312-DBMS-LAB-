{
  "nbformat": 4,
  "nbformat_minor": 0,
  "metadata": {
    "colab": {
      "name": "AI Lab Evaluation.ipynb",
      "provenance": [],
      "authorship_tag": "ABX9TyPXwkHkIYEQaACq1kPqK+Gm",
      "include_colab_link": true
    },
    "kernelspec": {
      "name": "python3",
      "display_name": "Python 3"
    },
    "language_info": {
      "name": "python"
    }
  },
  "cells": [
    {
      "cell_type": "markdown",
      "metadata": {
        "id": "view-in-github",
        "colab_type": "text"
      },
      "source": [
        "<a href=\"https://colab.research.google.com/github/mahamud-13756/7th-Semester-CSE-312-DBMS-LAB-/blob/main/AI_Lab_Evaluation.ipynb\" target=\"_parent\"><img src=\"https://colab.research.google.com/assets/colab-badge.svg\" alt=\"Open In Colab\"/></a>"
      ]
    },
    {
      "cell_type": "code",
      "execution_count": null,
      "metadata": {
        "colab": {
          "base_uri": "https://localhost:8080/"
        },
        "id": "e8rlMEuEPvaw",
        "outputId": "767fcfa6-d92b-4e8a-e057-332cf3f712fc"
      },
      "outputs": [
        {
          "output_type": "stream",
          "name": "stdout",
          "text": [
            "Mahamud\n"
          ]
        }
      ],
      "source": [
        "print(\"Mahamud\")"
      ]
    },
    {
      "cell_type": "markdown",
      "source": [
        "1.Write a python program that takes number of heads and legs as input and print the number of cows and chickens in the farm as output.\n"
      ],
      "metadata": {
        "id": "NeTNwVJsWT3g"
      }
    },
    {
      "cell_type": "code",
      "source": [
        ""
      ],
      "metadata": {
        "id": "cCdr5WujWYfI"
      },
      "execution_count": null,
      "outputs": []
    }
  ]
}